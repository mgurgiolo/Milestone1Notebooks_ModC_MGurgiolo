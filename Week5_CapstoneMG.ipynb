{
 "cells": [
  {
   "cell_type": "markdown",
   "id": "505ca48b",
   "metadata": {},
   "source": [
    "## Week 5 Capstone Work\n",
    "\n",
    "For Week 5, include concepts such as support vector machines, the kernel trick, and regularization for support vector machines."
   ]
  },
  {
   "cell_type": "code",
   "execution_count": 1,
   "id": "f7340d9b",
   "metadata": {},
   "outputs": [],
   "source": [
    "# Imports\n",
    "import numpy as np\n",
    "import pandas as pd\n",
    "import statsmodels.api as sm\n",
    "from sklearn.metrics import confusion_matrix\n",
    "from sklearn.linear_model import LinearRegression, Lasso, Ridge, ElasticNet, LogisticRegression\n",
    "from sklearn.svm import SVC\n",
    "from sklearn.preprocessing import StandardScaler\n",
    "from sklearn.model_selection import train_test_split, RepeatedKFold, cross_val_score, GridSearchCV, cross_val_predict\n",
    "from sklearn.feature_selection import SequentialFeatureSelector\n",
    "from sklearn.decomposition import PCA\n",
    "from sklearn.pipeline import Pipeline\n",
    "import matplotlib.pyplot as plt\n",
    "from statsmodels.stats.outliers_influence import variance_inflation_factor\n",
    "import seaborn as sns\n",
    "from matplotlib.colors import ListedColormap"
   ]
  },
  {
   "cell_type": "code",
   "execution_count": 2,
   "id": "db9107a9",
   "metadata": {},
   "outputs": [
    {
     "data": {
      "text/html": [
       "<div>\n",
       "<style scoped>\n",
       "    .dataframe tbody tr th:only-of-type {\n",
       "        vertical-align: middle;\n",
       "    }\n",
       "\n",
       "    .dataframe tbody tr th {\n",
       "        vertical-align: top;\n",
       "    }\n",
       "\n",
       "    .dataframe thead th {\n",
       "        text-align: right;\n",
       "    }\n",
       "</style>\n",
       "<table border=\"1\" class=\"dataframe\">\n",
       "  <thead>\n",
       "    <tr style=\"text-align: right;\">\n",
       "      <th></th>\n",
       "      <th>Length</th>\n",
       "      <th>Distance</th>\n",
       "      <th>DirChanges</th>\n",
       "      <th>Max_S</th>\n",
       "      <th>Max_A</th>\n",
       "      <th>Temperature</th>\n",
       "      <th>Precipitation</th>\n",
       "      <th>FieldType_Natural</th>\n",
       "      <th>PlayType_Extra Point</th>\n",
       "      <th>PlayType_Field Goal</th>\n",
       "      <th>...</th>\n",
       "      <th>PlayType_Punt Not Returned</th>\n",
       "      <th>PlayType_Punt Returned</th>\n",
       "      <th>PlayType_Rush</th>\n",
       "      <th>Length_sq</th>\n",
       "      <th>Distance_sq</th>\n",
       "      <th>DirChanges_sq</th>\n",
       "      <th>Max_S_sq</th>\n",
       "      <th>Max_A_sq</th>\n",
       "      <th>Temperature_sq</th>\n",
       "      <th>Injured</th>\n",
       "    </tr>\n",
       "  </thead>\n",
       "  <tbody>\n",
       "    <tr>\n",
       "      <th>0</th>\n",
       "      <td>35.3</td>\n",
       "      <td>52.89</td>\n",
       "      <td>35.0</td>\n",
       "      <td>7.59</td>\n",
       "      <td>0.62</td>\n",
       "      <td>39.0</td>\n",
       "      <td>1.0</td>\n",
       "      <td>0.0</td>\n",
       "      <td>0.0</td>\n",
       "      <td>0.0</td>\n",
       "      <td>...</td>\n",
       "      <td>0.0</td>\n",
       "      <td>0.0</td>\n",
       "      <td>1.0</td>\n",
       "      <td>1246.09</td>\n",
       "      <td>2797.3521</td>\n",
       "      <td>1225.0</td>\n",
       "      <td>57.6081</td>\n",
       "      <td>0.3844</td>\n",
       "      <td>1521.0</td>\n",
       "      <td>1.0</td>\n",
       "    </tr>\n",
       "    <tr>\n",
       "      <th>1</th>\n",
       "      <td>43.9</td>\n",
       "      <td>61.42</td>\n",
       "      <td>13.0</td>\n",
       "      <td>7.34</td>\n",
       "      <td>1.06</td>\n",
       "      <td>70.0</td>\n",
       "      <td>0.0</td>\n",
       "      <td>0.0</td>\n",
       "      <td>0.0</td>\n",
       "      <td>0.0</td>\n",
       "      <td>...</td>\n",
       "      <td>0.0</td>\n",
       "      <td>0.0</td>\n",
       "      <td>0.0</td>\n",
       "      <td>1927.21</td>\n",
       "      <td>3772.4164</td>\n",
       "      <td>169.0</td>\n",
       "      <td>53.8756</td>\n",
       "      <td>1.1236</td>\n",
       "      <td>4900.0</td>\n",
       "      <td>1.0</td>\n",
       "    </tr>\n",
       "    <tr>\n",
       "      <th>2</th>\n",
       "      <td>29.4</td>\n",
       "      <td>38.52</td>\n",
       "      <td>14.0</td>\n",
       "      <td>7.37</td>\n",
       "      <td>0.89</td>\n",
       "      <td>44.0</td>\n",
       "      <td>0.0</td>\n",
       "      <td>1.0</td>\n",
       "      <td>0.0</td>\n",
       "      <td>0.0</td>\n",
       "      <td>...</td>\n",
       "      <td>0.0</td>\n",
       "      <td>0.0</td>\n",
       "      <td>0.0</td>\n",
       "      <td>864.36</td>\n",
       "      <td>1483.7904</td>\n",
       "      <td>196.0</td>\n",
       "      <td>54.3169</td>\n",
       "      <td>0.7921</td>\n",
       "      <td>1936.0</td>\n",
       "      <td>1.0</td>\n",
       "    </tr>\n",
       "    <tr>\n",
       "      <th>3</th>\n",
       "      <td>18.9</td>\n",
       "      <td>47.06</td>\n",
       "      <td>2.0</td>\n",
       "      <td>7.75</td>\n",
       "      <td>0.36</td>\n",
       "      <td>76.0</td>\n",
       "      <td>0.0</td>\n",
       "      <td>0.0</td>\n",
       "      <td>0.0</td>\n",
       "      <td>0.0</td>\n",
       "      <td>...</td>\n",
       "      <td>0.0</td>\n",
       "      <td>0.0</td>\n",
       "      <td>0.0</td>\n",
       "      <td>357.21</td>\n",
       "      <td>2214.6436</td>\n",
       "      <td>4.0</td>\n",
       "      <td>60.0625</td>\n",
       "      <td>0.1296</td>\n",
       "      <td>5776.0</td>\n",
       "      <td>1.0</td>\n",
       "    </tr>\n",
       "    <tr>\n",
       "      <th>4</th>\n",
       "      <td>18.7</td>\n",
       "      <td>73.23</td>\n",
       "      <td>0.0</td>\n",
       "      <td>9.48</td>\n",
       "      <td>0.41</td>\n",
       "      <td>48.0</td>\n",
       "      <td>0.0</td>\n",
       "      <td>1.0</td>\n",
       "      <td>0.0</td>\n",
       "      <td>0.0</td>\n",
       "      <td>...</td>\n",
       "      <td>0.0</td>\n",
       "      <td>0.0</td>\n",
       "      <td>0.0</td>\n",
       "      <td>349.69</td>\n",
       "      <td>5362.6329</td>\n",
       "      <td>0.0</td>\n",
       "      <td>89.8704</td>\n",
       "      <td>0.1681</td>\n",
       "      <td>2304.0</td>\n",
       "      <td>1.0</td>\n",
       "    </tr>\n",
       "  </tbody>\n",
       "</table>\n",
       "<p>5 rows × 25 columns</p>\n",
       "</div>"
      ],
      "text/plain": [
       "   Length  Distance  DirChanges  Max_S  Max_A  Temperature  Precipitation  \\\n",
       "0    35.3     52.89        35.0   7.59   0.62         39.0            1.0   \n",
       "1    43.9     61.42        13.0   7.34   1.06         70.0            0.0   \n",
       "2    29.4     38.52        14.0   7.37   0.89         44.0            0.0   \n",
       "3    18.9     47.06         2.0   7.75   0.36         76.0            0.0   \n",
       "4    18.7     73.23         0.0   9.48   0.41         48.0            0.0   \n",
       "\n",
       "   FieldType_Natural  PlayType_Extra Point  PlayType_Field Goal  ...  \\\n",
       "0                0.0                   0.0                  0.0  ...   \n",
       "1                0.0                   0.0                  0.0  ...   \n",
       "2                1.0                   0.0                  0.0  ...   \n",
       "3                0.0                   0.0                  0.0  ...   \n",
       "4                1.0                   0.0                  0.0  ...   \n",
       "\n",
       "   PlayType_Punt Not Returned  PlayType_Punt Returned  PlayType_Rush  \\\n",
       "0                         0.0                     0.0            1.0   \n",
       "1                         0.0                     0.0            0.0   \n",
       "2                         0.0                     0.0            0.0   \n",
       "3                         0.0                     0.0            0.0   \n",
       "4                         0.0                     0.0            0.0   \n",
       "\n",
       "   Length_sq  Distance_sq  DirChanges_sq  Max_S_sq  Max_A_sq  Temperature_sq  \\\n",
       "0    1246.09    2797.3521         1225.0   57.6081    0.3844          1521.0   \n",
       "1    1927.21    3772.4164          169.0   53.8756    1.1236          4900.0   \n",
       "2     864.36    1483.7904          196.0   54.3169    0.7921          1936.0   \n",
       "3     357.21    2214.6436            4.0   60.0625    0.1296          5776.0   \n",
       "4     349.69    5362.6329            0.0   89.8704    0.1681          2304.0   \n",
       "\n",
       "   Injured  \n",
       "0      1.0  \n",
       "1      1.0  \n",
       "2      1.0  \n",
       "3      1.0  \n",
       "4      1.0  \n",
       "\n",
       "[5 rows x 25 columns]"
      ]
     },
     "execution_count": 2,
     "metadata": {},
     "output_type": "execute_result"
    }
   ],
   "source": [
    "# Read in wr data and convert injury to binary\n",
    "wr = pd.read_csv('data/cleaned/wr_eng.csv', sep=',', header=0)\n",
    "\n",
    "wr['Injured'] = (wr['Injury_Duration'] > 0).astype(float)\n",
    "\n",
    "wr = wr.drop(columns=['Injury_Duration'])\n",
    "wr.head()"
   ]
  },
  {
   "cell_type": "code",
   "execution_count": 3,
   "id": "8ca4b2e9",
   "metadata": {},
   "outputs": [],
   "source": [
    "# XY split\n",
    "X_wr = wr.drop(columns=['Injured']).copy()\n",
    "y_wr = wr['Injured'].copy()"
   ]
  },
  {
   "cell_type": "markdown",
   "id": "00cdb1fc",
   "metadata": {},
   "source": [
    "### SVM"
   ]
  },
  {
   "cell_type": "code",
   "execution_count": 4,
   "id": "f55ecbb1",
   "metadata": {},
   "outputs": [
    {
     "name": "stdout",
     "output_type": "stream",
     "text": [
      "SVM Params: {'regressor__C': 5, 'regressor__kernel': 'rbf'}\n",
      "RMSE: 0.1492840054584358\n"
     ]
    }
   ],
   "source": [
    "wr_svm_pipeline = Pipeline([('scaler', StandardScaler()),\n",
    "    ('regressor', SVC(random_state=42))\n",
    "])\n",
    "\n",
    "wr_svm_params = {'regressor__C': [1, 5], 'regressor__kernel': ['linear', 'poly', 'rbf']}\n",
    "\n",
    "wr_svm_gs = GridSearchCV(estimator=wr_svm_pipeline, param_grid=wr_svm_params, cv=RepeatedKFold(n_splits=5, n_repeats=2, random_state=42), scoring='neg_mean_squared_error')\n",
    "\n",
    "wr_svm_gs.fit(X_wr, y_wr)\n",
    "\n",
    "print(\"SVM Params:\", wr_svm_gs.best_params_)\n",
    "print(\"RMSE:\", np.sqrt(-wr_svm_gs.best_score_))"
   ]
  },
  {
   "cell_type": "code",
   "execution_count": 5,
   "id": "03591f6d",
   "metadata": {},
   "outputs": [
    {
     "data": {
      "text/html": [
       "<div>\n",
       "<style scoped>\n",
       "    .dataframe tbody tr th:only-of-type {\n",
       "        vertical-align: middle;\n",
       "    }\n",
       "\n",
       "    .dataframe tbody tr th {\n",
       "        vertical-align: top;\n",
       "    }\n",
       "\n",
       "    .dataframe thead th {\n",
       "        text-align: right;\n",
       "    }\n",
       "</style>\n",
       "<table border=\"1\" class=\"dataframe\">\n",
       "  <thead>\n",
       "    <tr style=\"text-align: right;\">\n",
       "      <th></th>\n",
       "      <th>param_regressor__C</th>\n",
       "      <th>param_regressor__kernel</th>\n",
       "      <th>RMSE</th>\n",
       "    </tr>\n",
       "  </thead>\n",
       "  <tbody>\n",
       "    <tr>\n",
       "      <th>0</th>\n",
       "      <td>1</td>\n",
       "      <td>linear</td>\n",
       "      <td>0.218109</td>\n",
       "    </tr>\n",
       "    <tr>\n",
       "      <th>1</th>\n",
       "      <td>1</td>\n",
       "      <td>poly</td>\n",
       "      <td>0.165040</td>\n",
       "    </tr>\n",
       "    <tr>\n",
       "      <th>2</th>\n",
       "      <td>1</td>\n",
       "      <td>rbf</td>\n",
       "      <td>0.162715</td>\n",
       "    </tr>\n",
       "    <tr>\n",
       "      <th>3</th>\n",
       "      <td>5</td>\n",
       "      <td>linear</td>\n",
       "      <td>0.216355</td>\n",
       "    </tr>\n",
       "    <tr>\n",
       "      <th>4</th>\n",
       "      <td>5</td>\n",
       "      <td>poly</td>\n",
       "      <td>0.160950</td>\n",
       "    </tr>\n",
       "    <tr>\n",
       "      <th>5</th>\n",
       "      <td>5</td>\n",
       "      <td>rbf</td>\n",
       "      <td>0.149284</td>\n",
       "    </tr>\n",
       "  </tbody>\n",
       "</table>\n",
       "</div>"
      ],
      "text/plain": [
       "   param_regressor__C param_regressor__kernel      RMSE\n",
       "0                   1                  linear  0.218109\n",
       "1                   1                    poly  0.165040\n",
       "2                   1                     rbf  0.162715\n",
       "3                   5                  linear  0.216355\n",
       "4                   5                    poly  0.160950\n",
       "5                   5                     rbf  0.149284"
      ]
     },
     "execution_count": 5,
     "metadata": {},
     "output_type": "execute_result"
    }
   ],
   "source": [
    "results_wr = pd.DataFrame(wr_svm_gs.cv_results_)\n",
    "results_wr['RMSE'] = np.sqrt(-results_wr['mean_test_score'])\n",
    "results_wr[['param_regressor__C', 'param_regressor__kernel', 'RMSE']]"
   ]
  },
  {
   "cell_type": "code",
   "execution_count": 6,
   "id": "e335cebd",
   "metadata": {},
   "outputs": [
    {
     "name": "stdout",
     "output_type": "stream",
     "text": [
      "SVM Params: {'regressor__C': 135.0, 'regressor__kernel': 'rbf'}\n",
      "RMSE: 0.09385906354489058\n"
     ]
    }
   ],
   "source": [
    "wr_svm_pipeline = Pipeline([('scaler', StandardScaler()),\n",
    "    ('regressor', SVC(random_state=42))\n",
    "])\n",
    "\n",
    "wr_svm_params = {'regressor__C': [float(i) for i in range(90, 150, 5)], 'regressor__kernel': ['rbf']}\n",
    "\n",
    "wr_svm_gs = GridSearchCV(estimator=wr_svm_pipeline, param_grid=wr_svm_params, cv=RepeatedKFold(n_splits=5, n_repeats=2, random_state=42), scoring='neg_mean_squared_error')\n",
    "\n",
    "wr_svm_gs.fit(X_wr, y_wr)\n",
    "\n",
    "print(\"SVM Params:\", wr_svm_gs.best_params_)\n",
    "print(\"RMSE:\", np.sqrt(-wr_svm_gs.best_score_))"
   ]
  },
  {
   "cell_type": "code",
   "execution_count": 7,
   "id": "e03d8c99",
   "metadata": {},
   "outputs": [
    {
     "data": {
      "image/png": "[encoded data removed]",
      "text/plain": [
       "<Figure size 1500x700 with 1 Axes>"
      ]
     },
     "metadata": {},
     "output_type": "display_data"
    }
   ],
   "source": [
    "results_wr = pd.DataFrame(wr_svm_gs.cv_results_)\n",
    "results_wr['RMSE'] = np.sqrt(-results_wr['mean_test_score'])\n",
    "# results_wr[['param_regressor__C', 'param_regressor__kernel', 'RMSE']]\n",
    "\n",
    "plt.figure(figsize=(15, 7))\n",
    "plt.plot(results_wr['param_regressor__C'], results_wr['RMSE'])\n",
    "plt.scatter(wr_svm_gs.best_params_['regressor__C'], np.sqrt(-wr_svm_gs.best_score_), c='r')\n",
    "plt.xlabel('C Parameter')\n",
    "plt.ylabel('RMSE')\n",
    "plt.title('C Parameter vs RMSE for SVM')\n",
    "plt.show()"
   ]
  },
  {
   "cell_type": "code",
   "execution_count": 8,
   "id": "f6b91016",
   "metadata": {},
   "outputs": [
    {
     "data": {
      "text/plain": [
       "(          C  Accuracy\n",
       " 0     0.001  0.949333\n",
       " 1     0.010  0.949333\n",
       " 2     0.100  0.948190\n",
       " 3     1.000  0.950095\n",
       " 4    10.000  0.950095\n",
       " 5   100.000  0.950095\n",
       " 6  1000.000  0.950095,\n",
       " array([[2487,    5],\n",
       "        [ 126,    7]]))"
      ]
     },
     "execution_count": 8,
     "metadata": {},
     "output_type": "execute_result"
    }
   ],
   "source": [
    "X_wr_train, X_wr_test, y_wr_train, y_wr_test = train_test_split(X_wr, y_wr, test_size=.25, random_state=42)\n",
    "\n",
    "scores = {'C': [], 'Accuracy': []}\n",
    "for i in [float(i) for i in [0.001, 0.01, 0.1, 1, 10, 100, 1000]]:\n",
    "    svc = SVC(kernel='linear', C=i)\n",
    "    svc.fit(X_wr_train, y_wr_train)\n",
    "\n",
    "    scores['C'].append(i)\n",
    "    scores['Accuracy'].append((svc.predict(X_wr_test) == y_wr_test).mean())\n",
    "\n",
    "conf_matrix = confusion_matrix(y_wr_test, svc.predict(X_wr_test))\n",
    "pd.DataFrame(scores), conf_matrix"
   ]
  },
  {
   "cell_type": "code",
   "execution_count": 9,
   "id": "3f0603ea",
   "metadata": {},
   "outputs": [
    {
     "data": {
      "text/plain": [
       "(          C  Accuracy\n",
       " 0     0.001  0.949333\n",
       " 1     0.010  0.949333\n",
       " 2     0.100  0.949333\n",
       " 3     1.000  0.949333\n",
       " 4    10.000  0.949333\n",
       " 5   100.000  0.949333\n",
       " 6  1000.000  0.960000,\n",
       " array([[2491,    1],\n",
       "        [ 104,   29]]))"
      ]
     },
     "execution_count": 9,
     "metadata": {},
     "output_type": "execute_result"
    }
   ],
   "source": [
    "X_wr_train, X_wr_test, y_wr_train, y_wr_test = train_test_split(X_wr, y_wr, test_size=.25, random_state=42)\n",
    "\n",
    "scores = {'C': [], 'Accuracy': []}\n",
    "for i in [float(i) for i in [0.001, 0.01, 0.1, 1, 10, 100, 1000]]:\n",
    "    svc = SVC(kernel='rbf', C=i)\n",
    "    svc.fit(X_wr_train, y_wr_train)\n",
    "\n",
    "    scores['C'].append(i)\n",
    "    scores['Accuracy'].append((svc.predict(X_wr_test) == y_wr_test).mean())\n",
    "\n",
    "conf_matrix = confusion_matrix(y_wr_test, svc.predict(X_wr_test))\n",
    "pd.DataFrame(scores), conf_matrix"
   ]
  },
  {
   "cell_type": "code",
   "execution_count": 10,
   "id": "8e2625a6",
   "metadata": {},
   "outputs": [
    {
     "data": {
      "text/plain": [
       "(          C  Accuracy\n",
       " 0     0.001  0.949333\n",
       " 1     0.010  0.949333\n",
       " 2     0.100  0.949333\n",
       " 3     1.000  0.949333\n",
       " 4    10.000  0.949333\n",
       " 5   100.000  0.949333\n",
       " 6  1000.000  0.949333,\n",
       " array([[2492,    0],\n",
       "        [ 133,    0]]))"
      ]
     },
     "execution_count": 10,
     "metadata": {},
     "output_type": "execute_result"
    }
   ],
   "source": [
    "X_wr_train, X_wr_test, y_wr_train, y_wr_test = train_test_split(X_wr, y_wr, test_size=.25, random_state=42)\n",
    "\n",
    "scores = {'C': [], 'Accuracy': []}\n",
    "for i in [float(i) for i in [0.001, 0.01, 0.1, 1, 10, 100, 1000]]:\n",
    "    svc = SVC(kernel='poly', C=i)\n",
    "    svc.fit(X_wr_train, y_wr_train)\n",
    "\n",
    "    scores['C'].append(i)\n",
    "    scores['Accuracy'].append((svc.predict(X_wr_test) == y_wr_test).mean())\n",
    "\n",
    "conf_matrix = confusion_matrix(y_wr_test, svc.predict(X_wr_test))\n",
    "pd.DataFrame(scores), conf_matrix"
   ]
  },
  {
   "cell_type": "code",
   "execution_count": 11,
   "id": "fd836cb4",
   "metadata": {},
   "outputs": [
    {
     "data": {
      "text/plain": [
       "133"
      ]
     },
     "execution_count": 11,
     "metadata": {},
     "output_type": "execute_result"
    }
   ],
   "source": [
    "sum(y_wr_test == 1)"
   ]
  },
  {
   "cell_type": "markdown",
   "id": "d8b4de0a",
   "metadata": {},
   "source": [
    "I tried, linear, poly, rbf, with wide ranges of C and could never get it to perform better than logistic regression. I could not figure out why, so I decided to scrap this model from any further evaluation."
   ]
  }
 ],
 "metadata": {
  "kernelspec": {
   "display_name": "datascience",
   "language": "python",
   "name": "python3"
  },
  "language_info": {
   "codemirror_mode": {
    "name": "ipython",
    "version": 3
   },
   "file_extension": ".py",
   "mimetype": "text/x-python",
   "name": "python",
   "nbconvert_exporter": "python",
   "pygments_lexer": "ipython3",
   "version": "3.13.2"
  }
 },
 "nbformat": 4,
 "nbformat_minor": 5
}
